{
  "nbformat": 4,
  "nbformat_minor": 0,
  "metadata": {
    "colab": {
      "provenance": [],
      "authorship_tag": "ABX9TyMeEWId7NwVu7n9ozmsLDCk",
      "include_colab_link": true
    },
    "kernelspec": {
      "name": "python3",
      "display_name": "Python 3"
    },
    "language_info": {
      "name": "python"
    }
  },
  "cells": [
    {
      "cell_type": "markdown",
      "metadata": {
        "id": "view-in-github",
        "colab_type": "text"
      },
      "source": [
        "<a href=\"https://colab.research.google.com/github/GassnerChristoph/Code/blob/main/run_Fig1d.ipynb\" target=\"_parent\"><img src=\"https://colab.research.google.com/assets/colab-badge.svg\" alt=\"Open In Colab\"/></a>"
      ]
    },
    {
      "cell_type": "code",
      "execution_count": null,
      "metadata": {
        "id": "0prvsK4NDone"
      },
      "outputs": [],
      "source": [
        "# --- Clone dein GitHub-Repository ---\n",
        "!git clone https://github.com/GassnerChristoph/Code.git\n",
        "%cd Code\n",
        "\n",
        "# --- Installiere benötigte Pakete ---\n",
        "!pip install -q gdown pandas numpy matplotlib\n",
        "\n",
        "# --- Lade die Daten von öffentlichem Google Drive ---\n",
        "import gdown\n",
        "\n",
        "# IDs deiner beiden CSV-Dateien:\n",
        "id_backscatter = \"1XobbLRaWrPsWE1FHDcAFQWGz-CpIreDW\"\n",
        "id_transmission = \"1I4-G6H5kvFTSR_BDoRZJxooL8v4CKT43\"\n",
        "\n",
        "gdown.download(id=id_backscatter, output=\"data_backscatter_realistic_108particles_100ppm.csv\", quiet=False)\n",
        "gdown.download(id=id_transmission, output=\"data_transmission_108particles_100ppm.csv\", quiet=False)\n",
        "\n",
        "# --- Führe dein Python-Skript aus ---\n",
        "!python Fig1d.py"
      ]
    }
  ]
}